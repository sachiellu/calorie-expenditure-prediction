{
 "cells": [
  {
   "cell_type": "code",
   "execution_count": 1,
   "id": "7a99908e",
   "metadata": {
    "_cell_guid": "b1076dfc-b9ad-4769-8c92-a6c4dae69d19",
    "_uuid": "8f2839f25d086af736a60e9eeb907d3b93b6e0e5",
    "execution": {
     "iopub.execute_input": "2025-05-18T15:13:13.898967Z",
     "iopub.status.busy": "2025-05-18T15:13:13.898589Z",
     "iopub.status.idle": "2025-05-18T15:13:17.513734Z",
     "shell.execute_reply": "2025-05-18T15:13:17.512931Z"
    },
    "papermill": {
     "duration": 3.622696,
     "end_time": "2025-05-18T15:13:17.515452",
     "exception": false,
     "start_time": "2025-05-18T15:13:13.892756",
     "status": "completed"
    },
    "tags": []
   },
   "outputs": [],
   "source": [
    "import warnings\n",
    "warnings.filterwarnings(\"ignore\")\n",
    "\n",
    "import pandas as pd\n",
    "import numpy as np\n",
    "from sklearn.linear_model import LinearRegression"
   ]
  },
  {
   "cell_type": "code",
   "execution_count": 2,
   "id": "80141168",
   "metadata": {
    "execution": {
     "iopub.execute_input": "2025-05-18T15:13:17.525171Z",
     "iopub.status.busy": "2025-05-18T15:13:17.524653Z",
     "iopub.status.idle": "2025-05-18T15:13:18.793749Z",
     "shell.execute_reply": "2025-05-18T15:13:18.792807Z"
    },
    "papermill": {
     "duration": 1.275739,
     "end_time": "2025-05-18T15:13:18.795388",
     "exception": false,
     "start_time": "2025-05-18T15:13:17.519649",
     "status": "completed"
    },
    "tags": []
   },
   "outputs": [],
   "source": [
    "# 讀資料\n",
    "\n",
    "train = pd.read_csv('/kaggle/input/playground-series-s5e5/train.csv')\n",
    "test = pd.read_csv('/kaggle/input/playground-series-s5e5/test.csv')\n",
    "sample = pd.read_csv(\"/kaggle/input/playground-series-s5e5/sample_submission.csv\")"
   ]
  },
  {
   "cell_type": "code",
   "execution_count": 3,
   "id": "e8705a42",
   "metadata": {
    "execution": {
     "iopub.execute_input": "2025-05-18T15:13:18.804706Z",
     "iopub.status.busy": "2025-05-18T15:13:18.804052Z",
     "iopub.status.idle": "2025-05-18T15:13:18.810320Z",
     "shell.execute_reply": "2025-05-18T15:13:18.809637Z"
    },
    "papermill": {
     "duration": 0.012084,
     "end_time": "2025-05-18T15:13:18.811620",
     "exception": false,
     "start_time": "2025-05-18T15:13:18.799536",
     "status": "completed"
    },
    "tags": []
   },
   "outputs": [
    {
     "data": {
      "text/plain": [
       "(750000, 9)"
      ]
     },
     "execution_count": 3,
     "metadata": {},
     "output_type": "execute_result"
    }
   ],
   "source": [
    "train.shape"
   ]
  },
  {
   "cell_type": "code",
   "execution_count": 4,
   "id": "df398227",
   "metadata": {
    "execution": {
     "iopub.execute_input": "2025-05-18T15:13:18.820908Z",
     "iopub.status.busy": "2025-05-18T15:13:18.820575Z",
     "iopub.status.idle": "2025-05-18T15:13:18.827010Z",
     "shell.execute_reply": "2025-05-18T15:13:18.826210Z"
    },
    "papermill": {
     "duration": 0.012691,
     "end_time": "2025-05-18T15:13:18.828496",
     "exception": false,
     "start_time": "2025-05-18T15:13:18.815805",
     "status": "completed"
    },
    "tags": []
   },
   "outputs": [
    {
     "data": {
      "text/plain": [
       "(250000, 8)"
      ]
     },
     "execution_count": 4,
     "metadata": {},
     "output_type": "execute_result"
    }
   ],
   "source": [
    "test.shape"
   ]
  },
  {
   "cell_type": "code",
   "execution_count": 5,
   "id": "d79a4858",
   "metadata": {
    "execution": {
     "iopub.execute_input": "2025-05-18T15:13:18.838019Z",
     "iopub.status.busy": "2025-05-18T15:13:18.837675Z",
     "iopub.status.idle": "2025-05-18T15:13:18.843586Z",
     "shell.execute_reply": "2025-05-18T15:13:18.842515Z"
    },
    "papermill": {
     "duration": 0.012329,
     "end_time": "2025-05-18T15:13:18.845095",
     "exception": false,
     "start_time": "2025-05-18T15:13:18.832766",
     "status": "completed"
    },
    "tags": []
   },
   "outputs": [
    {
     "data": {
      "text/plain": [
       "(250000, 2)"
      ]
     },
     "execution_count": 5,
     "metadata": {},
     "output_type": "execute_result"
    }
   ],
   "source": [
    "sample.shape"
   ]
  },
  {
   "cell_type": "code",
   "execution_count": 6,
   "id": "337b5056",
   "metadata": {
    "execution": {
     "iopub.execute_input": "2025-05-18T15:13:18.854442Z",
     "iopub.status.busy": "2025-05-18T15:13:18.854124Z",
     "iopub.status.idle": "2025-05-18T15:13:18.882269Z",
     "shell.execute_reply": "2025-05-18T15:13:18.881387Z"
    },
    "papermill": {
     "duration": 0.034668,
     "end_time": "2025-05-18T15:13:18.883915",
     "exception": false,
     "start_time": "2025-05-18T15:13:18.849247",
     "status": "completed"
    },
    "tags": []
   },
   "outputs": [
    {
     "data": {
      "text/html": [
       "<div>\n",
       "<style scoped>\n",
       "    .dataframe tbody tr th:only-of-type {\n",
       "        vertical-align: middle;\n",
       "    }\n",
       "\n",
       "    .dataframe tbody tr th {\n",
       "        vertical-align: top;\n",
       "    }\n",
       "\n",
       "    .dataframe thead th {\n",
       "        text-align: right;\n",
       "    }\n",
       "</style>\n",
       "<table border=\"1\" class=\"dataframe\">\n",
       "  <thead>\n",
       "    <tr style=\"text-align: right;\">\n",
       "      <th></th>\n",
       "      <th>id</th>\n",
       "      <th>Sex</th>\n",
       "      <th>Age</th>\n",
       "      <th>Height</th>\n",
       "      <th>Weight</th>\n",
       "      <th>Duration</th>\n",
       "      <th>Heart_Rate</th>\n",
       "      <th>Body_Temp</th>\n",
       "      <th>Calories</th>\n",
       "    </tr>\n",
       "  </thead>\n",
       "  <tbody>\n",
       "    <tr>\n",
       "      <th>0</th>\n",
       "      <td>0</td>\n",
       "      <td>male</td>\n",
       "      <td>36</td>\n",
       "      <td>189.0</td>\n",
       "      <td>82.0</td>\n",
       "      <td>26.0</td>\n",
       "      <td>101.0</td>\n",
       "      <td>41.0</td>\n",
       "      <td>150.0</td>\n",
       "    </tr>\n",
       "    <tr>\n",
       "      <th>1</th>\n",
       "      <td>1</td>\n",
       "      <td>female</td>\n",
       "      <td>64</td>\n",
       "      <td>163.0</td>\n",
       "      <td>60.0</td>\n",
       "      <td>8.0</td>\n",
       "      <td>85.0</td>\n",
       "      <td>39.7</td>\n",
       "      <td>34.0</td>\n",
       "    </tr>\n",
       "    <tr>\n",
       "      <th>2</th>\n",
       "      <td>2</td>\n",
       "      <td>female</td>\n",
       "      <td>51</td>\n",
       "      <td>161.0</td>\n",
       "      <td>64.0</td>\n",
       "      <td>7.0</td>\n",
       "      <td>84.0</td>\n",
       "      <td>39.8</td>\n",
       "      <td>29.0</td>\n",
       "    </tr>\n",
       "    <tr>\n",
       "      <th>3</th>\n",
       "      <td>3</td>\n",
       "      <td>male</td>\n",
       "      <td>20</td>\n",
       "      <td>192.0</td>\n",
       "      <td>90.0</td>\n",
       "      <td>25.0</td>\n",
       "      <td>105.0</td>\n",
       "      <td>40.7</td>\n",
       "      <td>140.0</td>\n",
       "    </tr>\n",
       "    <tr>\n",
       "      <th>4</th>\n",
       "      <td>4</td>\n",
       "      <td>female</td>\n",
       "      <td>38</td>\n",
       "      <td>166.0</td>\n",
       "      <td>61.0</td>\n",
       "      <td>25.0</td>\n",
       "      <td>102.0</td>\n",
       "      <td>40.6</td>\n",
       "      <td>146.0</td>\n",
       "    </tr>\n",
       "  </tbody>\n",
       "</table>\n",
       "</div>"
      ],
      "text/plain": [
       "   id     Sex  Age  Height  Weight  Duration  Heart_Rate  Body_Temp  Calories\n",
       "0   0    male   36   189.0    82.0      26.0       101.0       41.0     150.0\n",
       "1   1  female   64   163.0    60.0       8.0        85.0       39.7      34.0\n",
       "2   2  female   51   161.0    64.0       7.0        84.0       39.8      29.0\n",
       "3   3    male   20   192.0    90.0      25.0       105.0       40.7     140.0\n",
       "4   4  female   38   166.0    61.0      25.0       102.0       40.6     146.0"
      ]
     },
     "execution_count": 6,
     "metadata": {},
     "output_type": "execute_result"
    }
   ],
   "source": [
    "train.head()"
   ]
  },
  {
   "cell_type": "code",
   "execution_count": 7,
   "id": "26fc9659",
   "metadata": {
    "execution": {
     "iopub.execute_input": "2025-05-18T15:13:18.893677Z",
     "iopub.status.busy": "2025-05-18T15:13:18.893363Z",
     "iopub.status.idle": "2025-05-18T15:13:18.906169Z",
     "shell.execute_reply": "2025-05-18T15:13:18.905170Z"
    },
    "papermill": {
     "duration": 0.019344,
     "end_time": "2025-05-18T15:13:18.907563",
     "exception": false,
     "start_time": "2025-05-18T15:13:18.888219",
     "status": "completed"
    },
    "tags": []
   },
   "outputs": [
    {
     "data": {
      "text/html": [
       "<div>\n",
       "<style scoped>\n",
       "    .dataframe tbody tr th:only-of-type {\n",
       "        vertical-align: middle;\n",
       "    }\n",
       "\n",
       "    .dataframe tbody tr th {\n",
       "        vertical-align: top;\n",
       "    }\n",
       "\n",
       "    .dataframe thead th {\n",
       "        text-align: right;\n",
       "    }\n",
       "</style>\n",
       "<table border=\"1\" class=\"dataframe\">\n",
       "  <thead>\n",
       "    <tr style=\"text-align: right;\">\n",
       "      <th></th>\n",
       "      <th>id</th>\n",
       "      <th>Sex</th>\n",
       "      <th>Age</th>\n",
       "      <th>Height</th>\n",
       "      <th>Weight</th>\n",
       "      <th>Duration</th>\n",
       "      <th>Heart_Rate</th>\n",
       "      <th>Body_Temp</th>\n",
       "    </tr>\n",
       "  </thead>\n",
       "  <tbody>\n",
       "    <tr>\n",
       "      <th>0</th>\n",
       "      <td>750000</td>\n",
       "      <td>male</td>\n",
       "      <td>45</td>\n",
       "      <td>177.0</td>\n",
       "      <td>81.0</td>\n",
       "      <td>7.0</td>\n",
       "      <td>87.0</td>\n",
       "      <td>39.8</td>\n",
       "    </tr>\n",
       "    <tr>\n",
       "      <th>1</th>\n",
       "      <td>750001</td>\n",
       "      <td>male</td>\n",
       "      <td>26</td>\n",
       "      <td>200.0</td>\n",
       "      <td>97.0</td>\n",
       "      <td>20.0</td>\n",
       "      <td>101.0</td>\n",
       "      <td>40.5</td>\n",
       "    </tr>\n",
       "    <tr>\n",
       "      <th>2</th>\n",
       "      <td>750002</td>\n",
       "      <td>female</td>\n",
       "      <td>29</td>\n",
       "      <td>188.0</td>\n",
       "      <td>85.0</td>\n",
       "      <td>16.0</td>\n",
       "      <td>102.0</td>\n",
       "      <td>40.4</td>\n",
       "    </tr>\n",
       "    <tr>\n",
       "      <th>3</th>\n",
       "      <td>750003</td>\n",
       "      <td>female</td>\n",
       "      <td>39</td>\n",
       "      <td>172.0</td>\n",
       "      <td>73.0</td>\n",
       "      <td>20.0</td>\n",
       "      <td>107.0</td>\n",
       "      <td>40.6</td>\n",
       "    </tr>\n",
       "    <tr>\n",
       "      <th>4</th>\n",
       "      <td>750004</td>\n",
       "      <td>female</td>\n",
       "      <td>30</td>\n",
       "      <td>173.0</td>\n",
       "      <td>67.0</td>\n",
       "      <td>16.0</td>\n",
       "      <td>94.0</td>\n",
       "      <td>40.5</td>\n",
       "    </tr>\n",
       "  </tbody>\n",
       "</table>\n",
       "</div>"
      ],
      "text/plain": [
       "       id     Sex  Age  Height  Weight  Duration  Heart_Rate  Body_Temp\n",
       "0  750000    male   45   177.0    81.0       7.0        87.0       39.8\n",
       "1  750001    male   26   200.0    97.0      20.0       101.0       40.5\n",
       "2  750002  female   29   188.0    85.0      16.0       102.0       40.4\n",
       "3  750003  female   39   172.0    73.0      20.0       107.0       40.6\n",
       "4  750004  female   30   173.0    67.0      16.0        94.0       40.5"
      ]
     },
     "execution_count": 7,
     "metadata": {},
     "output_type": "execute_result"
    }
   ],
   "source": [
    "test.head()"
   ]
  },
  {
   "cell_type": "code",
   "execution_count": 8,
   "id": "d7dfc7f1",
   "metadata": {
    "execution": {
     "iopub.execute_input": "2025-05-18T15:13:18.917551Z",
     "iopub.status.busy": "2025-05-18T15:13:18.917211Z",
     "iopub.status.idle": "2025-05-18T15:13:18.926030Z",
     "shell.execute_reply": "2025-05-18T15:13:18.924932Z"
    },
    "papermill": {
     "duration": 0.015648,
     "end_time": "2025-05-18T15:13:18.927602",
     "exception": false,
     "start_time": "2025-05-18T15:13:18.911954",
     "status": "completed"
    },
    "tags": []
   },
   "outputs": [
    {
     "data": {
      "text/html": [
       "<div>\n",
       "<style scoped>\n",
       "    .dataframe tbody tr th:only-of-type {\n",
       "        vertical-align: middle;\n",
       "    }\n",
       "\n",
       "    .dataframe tbody tr th {\n",
       "        vertical-align: top;\n",
       "    }\n",
       "\n",
       "    .dataframe thead th {\n",
       "        text-align: right;\n",
       "    }\n",
       "</style>\n",
       "<table border=\"1\" class=\"dataframe\">\n",
       "  <thead>\n",
       "    <tr style=\"text-align: right;\">\n",
       "      <th></th>\n",
       "      <th>id</th>\n",
       "      <th>Calories</th>\n",
       "    </tr>\n",
       "  </thead>\n",
       "  <tbody>\n",
       "    <tr>\n",
       "      <th>0</th>\n",
       "      <td>750000</td>\n",
       "      <td>88.283</td>\n",
       "    </tr>\n",
       "    <tr>\n",
       "      <th>1</th>\n",
       "      <td>750001</td>\n",
       "      <td>88.283</td>\n",
       "    </tr>\n",
       "    <tr>\n",
       "      <th>2</th>\n",
       "      <td>750002</td>\n",
       "      <td>88.283</td>\n",
       "    </tr>\n",
       "    <tr>\n",
       "      <th>3</th>\n",
       "      <td>750003</td>\n",
       "      <td>88.283</td>\n",
       "    </tr>\n",
       "    <tr>\n",
       "      <th>4</th>\n",
       "      <td>750004</td>\n",
       "      <td>88.283</td>\n",
       "    </tr>\n",
       "  </tbody>\n",
       "</table>\n",
       "</div>"
      ],
      "text/plain": [
       "       id  Calories\n",
       "0  750000    88.283\n",
       "1  750001    88.283\n",
       "2  750002    88.283\n",
       "3  750003    88.283\n",
       "4  750004    88.283"
      ]
     },
     "execution_count": 8,
     "metadata": {},
     "output_type": "execute_result"
    }
   ],
   "source": [
    "sample.head()"
   ]
  },
  {
   "cell_type": "code",
   "execution_count": 9,
   "id": "6214dd6b",
   "metadata": {
    "execution": {
     "iopub.execute_input": "2025-05-18T15:13:18.939327Z",
     "iopub.status.busy": "2025-05-18T15:13:18.938701Z",
     "iopub.status.idle": "2025-05-18T15:13:19.516575Z",
     "shell.execute_reply": "2025-05-18T15:13:19.515739Z"
    },
    "papermill": {
     "duration": 0.585809,
     "end_time": "2025-05-18T15:13:19.518108",
     "exception": false,
     "start_time": "2025-05-18T15:13:18.932299",
     "status": "completed"
    },
    "tags": []
   },
   "outputs": [
    {
     "name": "stdout",
     "output_type": "stream",
     "text": [
      "\n",
      "TRAIN - Basic Info\n",
      "<class 'pandas.core.frame.DataFrame'>\n",
      "RangeIndex: 750000 entries, 0 to 749999\n",
      "Data columns (total 9 columns):\n",
      " #   Column      Non-Null Count   Dtype  \n",
      "---  ------      --------------   -----  \n",
      " 0   id          750000 non-null  int64  \n",
      " 1   Sex         750000 non-null  object \n",
      " 2   Age         750000 non-null  int64  \n",
      " 3   Height      750000 non-null  float64\n",
      " 4   Weight      750000 non-null  float64\n",
      " 5   Duration    750000 non-null  float64\n",
      " 6   Heart_Rate  750000 non-null  float64\n",
      " 7   Body_Temp   750000 non-null  float64\n",
      " 8   Calories    750000 non-null  float64\n",
      "dtypes: float64(6), int64(2), object(1)\n",
      "memory usage: 51.5+ MB\n"
     ]
    },
    {
     "data": {
      "text/plain": [
       "None"
      ]
     },
     "metadata": {},
     "output_type": "display_data"
    },
    {
     "data": {
      "text/html": [
       "<div>\n",
       "<style scoped>\n",
       "    .dataframe tbody tr th:only-of-type {\n",
       "        vertical-align: middle;\n",
       "    }\n",
       "\n",
       "    .dataframe tbody tr th {\n",
       "        vertical-align: top;\n",
       "    }\n",
       "\n",
       "    .dataframe thead th {\n",
       "        text-align: right;\n",
       "    }\n",
       "</style>\n",
       "<table border=\"1\" class=\"dataframe\">\n",
       "  <thead>\n",
       "    <tr style=\"text-align: right;\">\n",
       "      <th></th>\n",
       "      <th>count</th>\n",
       "      <th>unique</th>\n",
       "      <th>top</th>\n",
       "      <th>freq</th>\n",
       "      <th>mean</th>\n",
       "      <th>std</th>\n",
       "      <th>min</th>\n",
       "      <th>25%</th>\n",
       "      <th>50%</th>\n",
       "      <th>75%</th>\n",
       "      <th>max</th>\n",
       "    </tr>\n",
       "  </thead>\n",
       "  <tbody>\n",
       "    <tr>\n",
       "      <th>id</th>\n",
       "      <td>750000.0</td>\n",
       "      <td>NaN</td>\n",
       "      <td>NaN</td>\n",
       "      <td>NaN</td>\n",
       "      <td>374999.5</td>\n",
       "      <td>216506.495284</td>\n",
       "      <td>0.0</td>\n",
       "      <td>187499.75</td>\n",
       "      <td>374999.5</td>\n",
       "      <td>562499.25</td>\n",
       "      <td>749999.0</td>\n",
       "    </tr>\n",
       "    <tr>\n",
       "      <th>Sex</th>\n",
       "      <td>750000</td>\n",
       "      <td>2</td>\n",
       "      <td>female</td>\n",
       "      <td>375721</td>\n",
       "      <td>NaN</td>\n",
       "      <td>NaN</td>\n",
       "      <td>NaN</td>\n",
       "      <td>NaN</td>\n",
       "      <td>NaN</td>\n",
       "      <td>NaN</td>\n",
       "      <td>NaN</td>\n",
       "    </tr>\n",
       "    <tr>\n",
       "      <th>Age</th>\n",
       "      <td>750000.0</td>\n",
       "      <td>NaN</td>\n",
       "      <td>NaN</td>\n",
       "      <td>NaN</td>\n",
       "      <td>41.420404</td>\n",
       "      <td>15.175049</td>\n",
       "      <td>20.0</td>\n",
       "      <td>28.0</td>\n",
       "      <td>40.0</td>\n",
       "      <td>52.0</td>\n",
       "      <td>79.0</td>\n",
       "    </tr>\n",
       "    <tr>\n",
       "      <th>Height</th>\n",
       "      <td>750000.0</td>\n",
       "      <td>NaN</td>\n",
       "      <td>NaN</td>\n",
       "      <td>NaN</td>\n",
       "      <td>174.697685</td>\n",
       "      <td>12.824496</td>\n",
       "      <td>126.0</td>\n",
       "      <td>164.0</td>\n",
       "      <td>174.0</td>\n",
       "      <td>185.0</td>\n",
       "      <td>222.0</td>\n",
       "    </tr>\n",
       "    <tr>\n",
       "      <th>Weight</th>\n",
       "      <td>750000.0</td>\n",
       "      <td>NaN</td>\n",
       "      <td>NaN</td>\n",
       "      <td>NaN</td>\n",
       "      <td>75.145668</td>\n",
       "      <td>13.982704</td>\n",
       "      <td>36.0</td>\n",
       "      <td>63.0</td>\n",
       "      <td>74.0</td>\n",
       "      <td>87.0</td>\n",
       "      <td>132.0</td>\n",
       "    </tr>\n",
       "    <tr>\n",
       "      <th>Duration</th>\n",
       "      <td>750000.0</td>\n",
       "      <td>NaN</td>\n",
       "      <td>NaN</td>\n",
       "      <td>NaN</td>\n",
       "      <td>15.421015</td>\n",
       "      <td>8.354095</td>\n",
       "      <td>1.0</td>\n",
       "      <td>8.0</td>\n",
       "      <td>15.0</td>\n",
       "      <td>23.0</td>\n",
       "      <td>30.0</td>\n",
       "    </tr>\n",
       "    <tr>\n",
       "      <th>Heart_Rate</th>\n",
       "      <td>750000.0</td>\n",
       "      <td>NaN</td>\n",
       "      <td>NaN</td>\n",
       "      <td>NaN</td>\n",
       "      <td>95.483995</td>\n",
       "      <td>9.449845</td>\n",
       "      <td>67.0</td>\n",
       "      <td>88.0</td>\n",
       "      <td>95.0</td>\n",
       "      <td>103.0</td>\n",
       "      <td>128.0</td>\n",
       "    </tr>\n",
       "    <tr>\n",
       "      <th>Body_Temp</th>\n",
       "      <td>750000.0</td>\n",
       "      <td>NaN</td>\n",
       "      <td>NaN</td>\n",
       "      <td>NaN</td>\n",
       "      <td>40.036253</td>\n",
       "      <td>0.779875</td>\n",
       "      <td>37.1</td>\n",
       "      <td>39.6</td>\n",
       "      <td>40.3</td>\n",
       "      <td>40.7</td>\n",
       "      <td>41.5</td>\n",
       "    </tr>\n",
       "    <tr>\n",
       "      <th>Calories</th>\n",
       "      <td>750000.0</td>\n",
       "      <td>NaN</td>\n",
       "      <td>NaN</td>\n",
       "      <td>NaN</td>\n",
       "      <td>88.282781</td>\n",
       "      <td>62.395349</td>\n",
       "      <td>1.0</td>\n",
       "      <td>34.0</td>\n",
       "      <td>77.0</td>\n",
       "      <td>136.0</td>\n",
       "      <td>314.0</td>\n",
       "    </tr>\n",
       "  </tbody>\n",
       "</table>\n",
       "</div>"
      ],
      "text/plain": [
       "               count unique     top    freq        mean            std    min  \\\n",
       "id          750000.0    NaN     NaN     NaN    374999.5  216506.495284    0.0   \n",
       "Sex           750000      2  female  375721         NaN            NaN    NaN   \n",
       "Age         750000.0    NaN     NaN     NaN   41.420404      15.175049   20.0   \n",
       "Height      750000.0    NaN     NaN     NaN  174.697685      12.824496  126.0   \n",
       "Weight      750000.0    NaN     NaN     NaN   75.145668      13.982704   36.0   \n",
       "Duration    750000.0    NaN     NaN     NaN   15.421015       8.354095    1.0   \n",
       "Heart_Rate  750000.0    NaN     NaN     NaN   95.483995       9.449845   67.0   \n",
       "Body_Temp   750000.0    NaN     NaN     NaN   40.036253       0.779875   37.1   \n",
       "Calories    750000.0    NaN     NaN     NaN   88.282781      62.395349    1.0   \n",
       "\n",
       "                  25%       50%        75%       max  \n",
       "id          187499.75  374999.5  562499.25  749999.0  \n",
       "Sex               NaN       NaN        NaN       NaN  \n",
       "Age              28.0      40.0       52.0      79.0  \n",
       "Height          164.0     174.0      185.0     222.0  \n",
       "Weight           63.0      74.0       87.0     132.0  \n",
       "Duration          8.0      15.0       23.0      30.0  \n",
       "Heart_Rate       88.0      95.0      103.0     128.0  \n",
       "Body_Temp        39.6      40.3       40.7      41.5  \n",
       "Calories         34.0      77.0      136.0     314.0  "
      ]
     },
     "metadata": {},
     "output_type": "display_data"
    },
    {
     "name": "stdout",
     "output_type": "stream",
     "text": [
      "\n",
      "TEST - Basic Info\n",
      "<class 'pandas.core.frame.DataFrame'>\n",
      "RangeIndex: 250000 entries, 0 to 249999\n",
      "Data columns (total 8 columns):\n",
      " #   Column      Non-Null Count   Dtype  \n",
      "---  ------      --------------   -----  \n",
      " 0   id          250000 non-null  int64  \n",
      " 1   Sex         250000 non-null  object \n",
      " 2   Age         250000 non-null  int64  \n",
      " 3   Height      250000 non-null  float64\n",
      " 4   Weight      250000 non-null  float64\n",
      " 5   Duration    250000 non-null  float64\n",
      " 6   Heart_Rate  250000 non-null  float64\n",
      " 7   Body_Temp   250000 non-null  float64\n",
      "dtypes: float64(5), int64(2), object(1)\n",
      "memory usage: 15.3+ MB\n"
     ]
    },
    {
     "data": {
      "text/plain": [
       "None"
      ]
     },
     "metadata": {},
     "output_type": "display_data"
    },
    {
     "data": {
      "text/html": [
       "<div>\n",
       "<style scoped>\n",
       "    .dataframe tbody tr th:only-of-type {\n",
       "        vertical-align: middle;\n",
       "    }\n",
       "\n",
       "    .dataframe tbody tr th {\n",
       "        vertical-align: top;\n",
       "    }\n",
       "\n",
       "    .dataframe thead th {\n",
       "        text-align: right;\n",
       "    }\n",
       "</style>\n",
       "<table border=\"1\" class=\"dataframe\">\n",
       "  <thead>\n",
       "    <tr style=\"text-align: right;\">\n",
       "      <th></th>\n",
       "      <th>count</th>\n",
       "      <th>unique</th>\n",
       "      <th>top</th>\n",
       "      <th>freq</th>\n",
       "      <th>mean</th>\n",
       "      <th>std</th>\n",
       "      <th>min</th>\n",
       "      <th>25%</th>\n",
       "      <th>50%</th>\n",
       "      <th>75%</th>\n",
       "      <th>max</th>\n",
       "    </tr>\n",
       "  </thead>\n",
       "  <tbody>\n",
       "    <tr>\n",
       "      <th>id</th>\n",
       "      <td>250000.0</td>\n",
       "      <td>NaN</td>\n",
       "      <td>NaN</td>\n",
       "      <td>NaN</td>\n",
       "      <td>874999.5</td>\n",
       "      <td>72168.927986</td>\n",
       "      <td>750000.0</td>\n",
       "      <td>812499.75</td>\n",
       "      <td>874999.5</td>\n",
       "      <td>937499.25</td>\n",
       "      <td>999999.0</td>\n",
       "    </tr>\n",
       "    <tr>\n",
       "      <th>Sex</th>\n",
       "      <td>250000</td>\n",
       "      <td>2</td>\n",
       "      <td>female</td>\n",
       "      <td>125281</td>\n",
       "      <td>NaN</td>\n",
       "      <td>NaN</td>\n",
       "      <td>NaN</td>\n",
       "      <td>NaN</td>\n",
       "      <td>NaN</td>\n",
       "      <td>NaN</td>\n",
       "      <td>NaN</td>\n",
       "    </tr>\n",
       "    <tr>\n",
       "      <th>Age</th>\n",
       "      <td>250000.0</td>\n",
       "      <td>NaN</td>\n",
       "      <td>NaN</td>\n",
       "      <td>NaN</td>\n",
       "      <td>41.452464</td>\n",
       "      <td>15.177769</td>\n",
       "      <td>20.0</td>\n",
       "      <td>28.0</td>\n",
       "      <td>40.0</td>\n",
       "      <td>52.0</td>\n",
       "      <td>79.0</td>\n",
       "    </tr>\n",
       "    <tr>\n",
       "      <th>Height</th>\n",
       "      <td>250000.0</td>\n",
       "      <td>NaN</td>\n",
       "      <td>NaN</td>\n",
       "      <td>NaN</td>\n",
       "      <td>174.725624</td>\n",
       "      <td>12.822039</td>\n",
       "      <td>127.0</td>\n",
       "      <td>164.0</td>\n",
       "      <td>174.0</td>\n",
       "      <td>185.0</td>\n",
       "      <td>219.0</td>\n",
       "    </tr>\n",
       "    <tr>\n",
       "      <th>Weight</th>\n",
       "      <td>250000.0</td>\n",
       "      <td>NaN</td>\n",
       "      <td>NaN</td>\n",
       "      <td>NaN</td>\n",
       "      <td>75.147712</td>\n",
       "      <td>13.979513</td>\n",
       "      <td>39.0</td>\n",
       "      <td>63.0</td>\n",
       "      <td>74.0</td>\n",
       "      <td>87.0</td>\n",
       "      <td>126.0</td>\n",
       "    </tr>\n",
       "    <tr>\n",
       "      <th>Duration</th>\n",
       "      <td>250000.0</td>\n",
       "      <td>NaN</td>\n",
       "      <td>NaN</td>\n",
       "      <td>NaN</td>\n",
       "      <td>15.415428</td>\n",
       "      <td>8.349133</td>\n",
       "      <td>1.0</td>\n",
       "      <td>8.0</td>\n",
       "      <td>15.0</td>\n",
       "      <td>23.0</td>\n",
       "      <td>30.0</td>\n",
       "    </tr>\n",
       "    <tr>\n",
       "      <th>Heart_Rate</th>\n",
       "      <td>250000.0</td>\n",
       "      <td>NaN</td>\n",
       "      <td>NaN</td>\n",
       "      <td>NaN</td>\n",
       "      <td>95.479084</td>\n",
       "      <td>9.450161</td>\n",
       "      <td>67.0</td>\n",
       "      <td>88.0</td>\n",
       "      <td>95.0</td>\n",
       "      <td>103.0</td>\n",
       "      <td>128.0</td>\n",
       "    </tr>\n",
       "    <tr>\n",
       "      <th>Body_Temp</th>\n",
       "      <td>250000.0</td>\n",
       "      <td>NaN</td>\n",
       "      <td>NaN</td>\n",
       "      <td>NaN</td>\n",
       "      <td>40.036093</td>\n",
       "      <td>0.778448</td>\n",
       "      <td>37.1</td>\n",
       "      <td>39.6</td>\n",
       "      <td>40.3</td>\n",
       "      <td>40.6</td>\n",
       "      <td>41.5</td>\n",
       "    </tr>\n",
       "  </tbody>\n",
       "</table>\n",
       "</div>"
      ],
      "text/plain": [
       "               count unique     top    freq        mean           std  \\\n",
       "id          250000.0    NaN     NaN     NaN    874999.5  72168.927986   \n",
       "Sex           250000      2  female  125281         NaN           NaN   \n",
       "Age         250000.0    NaN     NaN     NaN   41.452464     15.177769   \n",
       "Height      250000.0    NaN     NaN     NaN  174.725624     12.822039   \n",
       "Weight      250000.0    NaN     NaN     NaN   75.147712     13.979513   \n",
       "Duration    250000.0    NaN     NaN     NaN   15.415428      8.349133   \n",
       "Heart_Rate  250000.0    NaN     NaN     NaN   95.479084      9.450161   \n",
       "Body_Temp   250000.0    NaN     NaN     NaN   40.036093      0.778448   \n",
       "\n",
       "                 min        25%       50%        75%       max  \n",
       "id          750000.0  812499.75  874999.5  937499.25  999999.0  \n",
       "Sex              NaN        NaN       NaN        NaN       NaN  \n",
       "Age             20.0       28.0      40.0       52.0      79.0  \n",
       "Height         127.0      164.0     174.0      185.0     219.0  \n",
       "Weight          39.0       63.0      74.0       87.0     126.0  \n",
       "Duration         1.0        8.0      15.0       23.0      30.0  \n",
       "Heart_Rate      67.0       88.0      95.0      103.0     128.0  \n",
       "Body_Temp       37.1       39.6      40.3       40.6      41.5  "
      ]
     },
     "metadata": {},
     "output_type": "display_data"
    }
   ],
   "source": [
    "def over_view(df,name = \"dataframe\"):\n",
    "    print(f\"\\n{name.upper()} - Basic Info\")\n",
    "    display(df.info())\n",
    "    display(df.describe(include = \"all\").T)\n",
    "over_view(train,\"train\")\n",
    "over_view(test,\"test\")"
   ]
  },
  {
   "cell_type": "code",
   "execution_count": 10,
   "id": "fe372f90",
   "metadata": {
    "execution": {
     "iopub.execute_input": "2025-05-18T15:13:19.530080Z",
     "iopub.status.busy": "2025-05-18T15:13:19.529743Z",
     "iopub.status.idle": "2025-05-18T15:13:19.567452Z",
     "shell.execute_reply": "2025-05-18T15:13:19.566677Z"
    },
    "papermill": {
     "duration": 0.045593,
     "end_time": "2025-05-18T15:13:19.569121",
     "exception": false,
     "start_time": "2025-05-18T15:13:19.523528",
     "status": "completed"
    },
    "tags": []
   },
   "outputs": [],
   "source": [
    "# 合併\n",
    "combined = pd.concat([train, test], ignore_index=True)"
   ]
  },
  {
   "cell_type": "code",
   "execution_count": 11,
   "id": "7c97625c",
   "metadata": {
    "execution": {
     "iopub.execute_input": "2025-05-18T15:13:19.581269Z",
     "iopub.status.busy": "2025-05-18T15:13:19.580364Z",
     "iopub.status.idle": "2025-05-18T15:13:19.598113Z",
     "shell.execute_reply": "2025-05-18T15:13:19.597220Z"
    },
    "papermill": {
     "duration": 0.025075,
     "end_time": "2025-05-18T15:13:19.599421",
     "exception": false,
     "start_time": "2025-05-18T15:13:19.574346",
     "status": "completed"
    },
    "tags": []
   },
   "outputs": [
    {
     "data": {
      "text/html": [
       "<div>\n",
       "<style scoped>\n",
       "    .dataframe tbody tr th:only-of-type {\n",
       "        vertical-align: middle;\n",
       "    }\n",
       "\n",
       "    .dataframe tbody tr th {\n",
       "        vertical-align: top;\n",
       "    }\n",
       "\n",
       "    .dataframe thead th {\n",
       "        text-align: right;\n",
       "    }\n",
       "</style>\n",
       "<table border=\"1\" class=\"dataframe\">\n",
       "  <thead>\n",
       "    <tr style=\"text-align: right;\">\n",
       "      <th></th>\n",
       "      <th>id</th>\n",
       "      <th>Sex</th>\n",
       "      <th>Age</th>\n",
       "      <th>Height</th>\n",
       "      <th>Weight</th>\n",
       "      <th>Duration</th>\n",
       "      <th>Heart_Rate</th>\n",
       "      <th>Body_Temp</th>\n",
       "      <th>Calories</th>\n",
       "    </tr>\n",
       "  </thead>\n",
       "  <tbody>\n",
       "    <tr>\n",
       "      <th>0</th>\n",
       "      <td>0</td>\n",
       "      <td>male</td>\n",
       "      <td>36</td>\n",
       "      <td>189.0</td>\n",
       "      <td>82.0</td>\n",
       "      <td>26.0</td>\n",
       "      <td>101.0</td>\n",
       "      <td>41.0</td>\n",
       "      <td>150.0</td>\n",
       "    </tr>\n",
       "    <tr>\n",
       "      <th>1</th>\n",
       "      <td>1</td>\n",
       "      <td>female</td>\n",
       "      <td>64</td>\n",
       "      <td>163.0</td>\n",
       "      <td>60.0</td>\n",
       "      <td>8.0</td>\n",
       "      <td>85.0</td>\n",
       "      <td>39.7</td>\n",
       "      <td>34.0</td>\n",
       "    </tr>\n",
       "    <tr>\n",
       "      <th>2</th>\n",
       "      <td>2</td>\n",
       "      <td>female</td>\n",
       "      <td>51</td>\n",
       "      <td>161.0</td>\n",
       "      <td>64.0</td>\n",
       "      <td>7.0</td>\n",
       "      <td>84.0</td>\n",
       "      <td>39.8</td>\n",
       "      <td>29.0</td>\n",
       "    </tr>\n",
       "    <tr>\n",
       "      <th>3</th>\n",
       "      <td>3</td>\n",
       "      <td>male</td>\n",
       "      <td>20</td>\n",
       "      <td>192.0</td>\n",
       "      <td>90.0</td>\n",
       "      <td>25.0</td>\n",
       "      <td>105.0</td>\n",
       "      <td>40.7</td>\n",
       "      <td>140.0</td>\n",
       "    </tr>\n",
       "    <tr>\n",
       "      <th>4</th>\n",
       "      <td>4</td>\n",
       "      <td>female</td>\n",
       "      <td>38</td>\n",
       "      <td>166.0</td>\n",
       "      <td>61.0</td>\n",
       "      <td>25.0</td>\n",
       "      <td>102.0</td>\n",
       "      <td>40.6</td>\n",
       "      <td>146.0</td>\n",
       "    </tr>\n",
       "    <tr>\n",
       "      <th>...</th>\n",
       "      <td>...</td>\n",
       "      <td>...</td>\n",
       "      <td>...</td>\n",
       "      <td>...</td>\n",
       "      <td>...</td>\n",
       "      <td>...</td>\n",
       "      <td>...</td>\n",
       "      <td>...</td>\n",
       "      <td>...</td>\n",
       "    </tr>\n",
       "    <tr>\n",
       "      <th>999995</th>\n",
       "      <td>999995</td>\n",
       "      <td>female</td>\n",
       "      <td>56</td>\n",
       "      <td>159.0</td>\n",
       "      <td>62.0</td>\n",
       "      <td>6.0</td>\n",
       "      <td>85.0</td>\n",
       "      <td>39.4</td>\n",
       "      <td>NaN</td>\n",
       "    </tr>\n",
       "    <tr>\n",
       "      <th>999996</th>\n",
       "      <td>999996</td>\n",
       "      <td>male</td>\n",
       "      <td>32</td>\n",
       "      <td>202.0</td>\n",
       "      <td>101.0</td>\n",
       "      <td>3.0</td>\n",
       "      <td>84.0</td>\n",
       "      <td>38.4</td>\n",
       "      <td>NaN</td>\n",
       "    </tr>\n",
       "    <tr>\n",
       "      <th>999997</th>\n",
       "      <td>999997</td>\n",
       "      <td>female</td>\n",
       "      <td>31</td>\n",
       "      <td>164.0</td>\n",
       "      <td>64.0</td>\n",
       "      <td>14.0</td>\n",
       "      <td>98.0</td>\n",
       "      <td>40.1</td>\n",
       "      <td>NaN</td>\n",
       "    </tr>\n",
       "    <tr>\n",
       "      <th>999998</th>\n",
       "      <td>999998</td>\n",
       "      <td>female</td>\n",
       "      <td>62</td>\n",
       "      <td>158.0</td>\n",
       "      <td>61.0</td>\n",
       "      <td>25.0</td>\n",
       "      <td>106.0</td>\n",
       "      <td>40.7</td>\n",
       "      <td>NaN</td>\n",
       "    </tr>\n",
       "    <tr>\n",
       "      <th>999999</th>\n",
       "      <td>999999</td>\n",
       "      <td>male</td>\n",
       "      <td>31</td>\n",
       "      <td>199.0</td>\n",
       "      <td>96.0</td>\n",
       "      <td>15.0</td>\n",
       "      <td>98.0</td>\n",
       "      <td>39.9</td>\n",
       "      <td>NaN</td>\n",
       "    </tr>\n",
       "  </tbody>\n",
       "</table>\n",
       "<p>1000000 rows × 9 columns</p>\n",
       "</div>"
      ],
      "text/plain": [
       "            id     Sex  Age  Height  Weight  Duration  Heart_Rate  Body_Temp  \\\n",
       "0            0    male   36   189.0    82.0      26.0       101.0       41.0   \n",
       "1            1  female   64   163.0    60.0       8.0        85.0       39.7   \n",
       "2            2  female   51   161.0    64.0       7.0        84.0       39.8   \n",
       "3            3    male   20   192.0    90.0      25.0       105.0       40.7   \n",
       "4            4  female   38   166.0    61.0      25.0       102.0       40.6   \n",
       "...        ...     ...  ...     ...     ...       ...         ...        ...   \n",
       "999995  999995  female   56   159.0    62.0       6.0        85.0       39.4   \n",
       "999996  999996    male   32   202.0   101.0       3.0        84.0       38.4   \n",
       "999997  999997  female   31   164.0    64.0      14.0        98.0       40.1   \n",
       "999998  999998  female   62   158.0    61.0      25.0       106.0       40.7   \n",
       "999999  999999    male   31   199.0    96.0      15.0        98.0       39.9   \n",
       "\n",
       "        Calories  \n",
       "0          150.0  \n",
       "1           34.0  \n",
       "2           29.0  \n",
       "3          140.0  \n",
       "4          146.0  \n",
       "...          ...  \n",
       "999995       NaN  \n",
       "999996       NaN  \n",
       "999997       NaN  \n",
       "999998       NaN  \n",
       "999999       NaN  \n",
       "\n",
       "[1000000 rows x 9 columns]"
      ]
     },
     "execution_count": 11,
     "metadata": {},
     "output_type": "execute_result"
    }
   ],
   "source": [
    "combined"
   ]
  },
  {
   "cell_type": "code",
   "execution_count": 12,
   "id": "f41c7a82",
   "metadata": {
    "execution": {
     "iopub.execute_input": "2025-05-18T15:13:19.611731Z",
     "iopub.status.busy": "2025-05-18T15:13:19.611369Z",
     "iopub.status.idle": "2025-05-18T15:13:19.616839Z",
     "shell.execute_reply": "2025-05-18T15:13:19.615905Z"
    },
    "papermill": {
     "duration": 0.013394,
     "end_time": "2025-05-18T15:13:19.618358",
     "exception": false,
     "start_time": "2025-05-18T15:13:19.604964",
     "status": "completed"
    },
    "tags": []
   },
   "outputs": [],
   "source": [
    "# 在測試集補上空的目標欄位\n",
    "test['Calories'] = np.nan"
   ]
  },
  {
   "cell_type": "code",
   "execution_count": 13,
   "id": "fe37cd6d",
   "metadata": {
    "execution": {
     "iopub.execute_input": "2025-05-18T15:13:19.630727Z",
     "iopub.status.busy": "2025-05-18T15:13:19.630267Z",
     "iopub.status.idle": "2025-05-18T15:13:19.636279Z",
     "shell.execute_reply": "2025-05-18T15:13:19.635437Z"
    },
    "papermill": {
     "duration": 0.013913,
     "end_time": "2025-05-18T15:13:19.637829",
     "exception": false,
     "start_time": "2025-05-18T15:13:19.623916",
     "status": "completed"
    },
    "tags": []
   },
   "outputs": [],
   "source": [
    "# 標記訓練/測試資料\n",
    "train['is_train'] = 1\n",
    "test['is_train'] = 0"
   ]
  },
  {
   "cell_type": "code",
   "execution_count": 14,
   "id": "f3ef19f5",
   "metadata": {
    "execution": {
     "iopub.execute_input": "2025-05-18T15:13:19.650464Z",
     "iopub.status.busy": "2025-05-18T15:13:19.650169Z",
     "iopub.status.idle": "2025-05-18T15:13:19.706877Z",
     "shell.execute_reply": "2025-05-18T15:13:19.706148Z"
    },
    "papermill": {
     "duration": 0.065048,
     "end_time": "2025-05-18T15:13:19.708485",
     "exception": false,
     "start_time": "2025-05-18T15:13:19.643437",
     "status": "completed"
    },
    "tags": []
   },
   "outputs": [],
   "source": [
    "# 合併\n",
    "combined = pd.concat([train, test], ignore_index=True)"
   ]
  },
  {
   "cell_type": "code",
   "execution_count": 15,
   "id": "7e38f92b",
   "metadata": {
    "execution": {
     "iopub.execute_input": "2025-05-18T15:13:19.721108Z",
     "iopub.status.busy": "2025-05-18T15:13:19.720303Z",
     "iopub.status.idle": "2025-05-18T15:13:19.975624Z",
     "shell.execute_reply": "2025-05-18T15:13:19.974913Z"
    },
    "papermill": {
     "duration": 0.263301,
     "end_time": "2025-05-18T15:13:19.977210",
     "exception": false,
     "start_time": "2025-05-18T15:13:19.713909",
     "status": "completed"
    },
    "tags": []
   },
   "outputs": [],
   "source": [
    "# 找類別欄位並做One-hot encoding\n",
    "cat_columns = combined.select_dtypes(include=['object']).columns.tolist()\n",
    "combined = pd.get_dummies(combined, columns=cat_columns)"
   ]
  },
  {
   "cell_type": "code",
   "execution_count": 16,
   "id": "a4375288",
   "metadata": {
    "execution": {
     "iopub.execute_input": "2025-05-18T15:13:19.989805Z",
     "iopub.status.busy": "2025-05-18T15:13:19.988952Z",
     "iopub.status.idle": "2025-05-18T15:13:20.091070Z",
     "shell.execute_reply": "2025-05-18T15:13:20.090105Z"
    },
    "papermill": {
     "duration": 0.110011,
     "end_time": "2025-05-18T15:13:20.092660",
     "exception": false,
     "start_time": "2025-05-18T15:13:19.982649",
     "status": "completed"
    },
    "tags": []
   },
   "outputs": [],
   "source": [
    "# 分回訓練集\n",
    "train_data = combined[combined['is_train'] == 1].copy()\n",
    "train_data = train_data.drop(columns=['is_train', 'id'])\n",
    "train_data = train_data.dropna(subset=['Calories'])"
   ]
  },
  {
   "cell_type": "code",
   "execution_count": 17,
   "id": "80581fb6",
   "metadata": {
    "execution": {
     "iopub.execute_input": "2025-05-18T15:13:20.104776Z",
     "iopub.status.busy": "2025-05-18T15:13:20.104462Z",
     "iopub.status.idle": "2025-05-18T15:13:20.123318Z",
     "shell.execute_reply": "2025-05-18T15:13:20.122558Z"
    },
    "papermill": {
     "duration": 0.026648,
     "end_time": "2025-05-18T15:13:20.124874",
     "exception": false,
     "start_time": "2025-05-18T15:13:20.098226",
     "status": "completed"
    },
    "tags": []
   },
   "outputs": [],
   "source": [
    "# 準備X和y\n",
    "X = train_data.drop('Calories', axis=1)\n",
    "y = train_data['Calories']"
   ]
  },
  {
   "cell_type": "code",
   "execution_count": 18,
   "id": "9c60996c",
   "metadata": {
    "execution": {
     "iopub.execute_input": "2025-05-18T15:13:20.137804Z",
     "iopub.status.busy": "2025-05-18T15:13:20.136945Z",
     "iopub.status.idle": "2025-05-18T15:13:20.590649Z",
     "shell.execute_reply": "2025-05-18T15:13:20.589747Z"
    },
    "papermill": {
     "duration": 0.461823,
     "end_time": "2025-05-18T15:13:20.592114",
     "exception": false,
     "start_time": "2025-05-18T15:13:20.130291",
     "status": "completed"
    },
    "tags": []
   },
   "outputs": [
    {
     "data": {
      "text/html": [
       "<style>#sk-container-id-1 {color: black;background-color: white;}#sk-container-id-1 pre{padding: 0;}#sk-container-id-1 div.sk-toggleable {background-color: white;}#sk-container-id-1 label.sk-toggleable__label {cursor: pointer;display: block;width: 100%;margin-bottom: 0;padding: 0.3em;box-sizing: border-box;text-align: center;}#sk-container-id-1 label.sk-toggleable__label-arrow:before {content: \"▸\";float: left;margin-right: 0.25em;color: #696969;}#sk-container-id-1 label.sk-toggleable__label-arrow:hover:before {color: black;}#sk-container-id-1 div.sk-estimator:hover label.sk-toggleable__label-arrow:before {color: black;}#sk-container-id-1 div.sk-toggleable__content {max-height: 0;max-width: 0;overflow: hidden;text-align: left;background-color: #f0f8ff;}#sk-container-id-1 div.sk-toggleable__content pre {margin: 0.2em;color: black;border-radius: 0.25em;background-color: #f0f8ff;}#sk-container-id-1 input.sk-toggleable__control:checked~div.sk-toggleable__content {max-height: 200px;max-width: 100%;overflow: auto;}#sk-container-id-1 input.sk-toggleable__control:checked~label.sk-toggleable__label-arrow:before {content: \"▾\";}#sk-container-id-1 div.sk-estimator input.sk-toggleable__control:checked~label.sk-toggleable__label {background-color: #d4ebff;}#sk-container-id-1 div.sk-label input.sk-toggleable__control:checked~label.sk-toggleable__label {background-color: #d4ebff;}#sk-container-id-1 input.sk-hidden--visually {border: 0;clip: rect(1px 1px 1px 1px);clip: rect(1px, 1px, 1px, 1px);height: 1px;margin: -1px;overflow: hidden;padding: 0;position: absolute;width: 1px;}#sk-container-id-1 div.sk-estimator {font-family: monospace;background-color: #f0f8ff;border: 1px dotted black;border-radius: 0.25em;box-sizing: border-box;margin-bottom: 0.5em;}#sk-container-id-1 div.sk-estimator:hover {background-color: #d4ebff;}#sk-container-id-1 div.sk-parallel-item::after {content: \"\";width: 100%;border-bottom: 1px solid gray;flex-grow: 1;}#sk-container-id-1 div.sk-label:hover label.sk-toggleable__label {background-color: #d4ebff;}#sk-container-id-1 div.sk-serial::before {content: \"\";position: absolute;border-left: 1px solid gray;box-sizing: border-box;top: 0;bottom: 0;left: 50%;z-index: 0;}#sk-container-id-1 div.sk-serial {display: flex;flex-direction: column;align-items: center;background-color: white;padding-right: 0.2em;padding-left: 0.2em;position: relative;}#sk-container-id-1 div.sk-item {position: relative;z-index: 1;}#sk-container-id-1 div.sk-parallel {display: flex;align-items: stretch;justify-content: center;background-color: white;position: relative;}#sk-container-id-1 div.sk-item::before, #sk-container-id-1 div.sk-parallel-item::before {content: \"\";position: absolute;border-left: 1px solid gray;box-sizing: border-box;top: 0;bottom: 0;left: 50%;z-index: -1;}#sk-container-id-1 div.sk-parallel-item {display: flex;flex-direction: column;z-index: 1;position: relative;background-color: white;}#sk-container-id-1 div.sk-parallel-item:first-child::after {align-self: flex-end;width: 50%;}#sk-container-id-1 div.sk-parallel-item:last-child::after {align-self: flex-start;width: 50%;}#sk-container-id-1 div.sk-parallel-item:only-child::after {width: 0;}#sk-container-id-1 div.sk-dashed-wrapped {border: 1px dashed gray;margin: 0 0.4em 0.5em 0.4em;box-sizing: border-box;padding-bottom: 0.4em;background-color: white;}#sk-container-id-1 div.sk-label label {font-family: monospace;font-weight: bold;display: inline-block;line-height: 1.2em;}#sk-container-id-1 div.sk-label-container {text-align: center;}#sk-container-id-1 div.sk-container {/* jupyter's `normalize.less` sets `[hidden] { display: none; }` but bootstrap.min.css set `[hidden] { display: none !important; }` so we also need the `!important` here to be able to override the default hidden behavior on the sphinx rendered scikit-learn.org. See: https://github.com/scikit-learn/scikit-learn/issues/21755 */display: inline-block !important;position: relative;}#sk-container-id-1 div.sk-text-repr-fallback {display: none;}</style><div id=\"sk-container-id-1\" class=\"sk-top-container\"><div class=\"sk-text-repr-fallback\"><pre>LinearRegression()</pre><b>In a Jupyter environment, please rerun this cell to show the HTML representation or trust the notebook. <br />On GitHub, the HTML representation is unable to render, please try loading this page with nbviewer.org.</b></div><div class=\"sk-container\" hidden><div class=\"sk-item\"><div class=\"sk-estimator sk-toggleable\"><input class=\"sk-toggleable__control sk-hidden--visually\" id=\"sk-estimator-id-1\" type=\"checkbox\" checked><label for=\"sk-estimator-id-1\" class=\"sk-toggleable__label sk-toggleable__label-arrow\">LinearRegression</label><div class=\"sk-toggleable__content\"><pre>LinearRegression()</pre></div></div></div></div></div>"
      ],
      "text/plain": [
       "LinearRegression()"
      ]
     },
     "execution_count": 18,
     "metadata": {},
     "output_type": "execute_result"
    }
   ],
   "source": [
    "# 訓練模型\n",
    "from sklearn.linear_model import LinearRegression\n",
    "\n",
    "model = LinearRegression()\n",
    "model.fit(X, y)"
   ]
  },
  {
   "cell_type": "code",
   "execution_count": 19,
   "id": "24276a4e",
   "metadata": {
    "execution": {
     "iopub.execute_input": "2025-05-18T15:13:20.605326Z",
     "iopub.status.busy": "2025-05-18T15:13:20.604487Z",
     "iopub.status.idle": "2025-05-18T15:13:20.610500Z",
     "shell.execute_reply": "2025-05-18T15:13:20.609521Z"
    },
    "papermill": {
     "duration": 0.013951,
     "end_time": "2025-05-18T15:13:20.611920",
     "exception": false,
     "start_time": "2025-05-18T15:13:20.597969",
     "status": "completed"
    },
    "tags": []
   },
   "outputs": [
    {
     "name": "stdout",
     "output_type": "stream",
     "text": [
      "模型係數（weights）: [  0.53207573  -0.14626323   0.26964886   6.75960902   1.94866858\n",
      " -18.18538501   0.84819094  -0.84819094]\n",
      "模型截距（intercept）: 509.29925091188795\n"
     ]
    }
   ],
   "source": [
    "print(\"模型係數（weights）:\", model.coef_)\n",
    "print(\"模型截距（intercept）:\", model.intercept_)"
   ]
  },
  {
   "cell_type": "code",
   "execution_count": 20,
   "id": "6640585b",
   "metadata": {
    "execution": {
     "iopub.execute_input": "2025-05-18T15:13:20.624914Z",
     "iopub.status.busy": "2025-05-18T15:13:20.624154Z",
     "iopub.status.idle": "2025-05-18T15:13:20.676380Z",
     "shell.execute_reply": "2025-05-18T15:13:20.675356Z"
    },
    "papermill": {
     "duration": 0.060309,
     "end_time": "2025-05-18T15:13:20.677812",
     "exception": false,
     "start_time": "2025-05-18T15:13:20.617503",
     "status": "completed"
    },
    "tags": []
   },
   "outputs": [
    {
     "name": "stdout",
     "output_type": "stream",
     "text": [
      "前5筆預測值: [149.03781834  34.29223058  18.21955186 148.73368861 151.96299336]\n",
      "前5筆真實值: [150.  34.  29. 140. 146.]\n"
     ]
    }
   ],
   "source": [
    "y_pred = model.predict(X)\n",
    "print(\"前5筆預測值:\", y_pred[:5])\n",
    "print(\"前5筆真實值:\", y.values[:5])"
   ]
  }
 ],
 "metadata": {
  "kaggle": {
   "accelerator": "none",
   "dataSources": [
    {
     "databundleVersionId": 11893428,
     "sourceId": 91716,
     "sourceType": "competition"
    }
   ],
   "dockerImageVersionId": 31040,
   "isGpuEnabled": false,
   "isInternetEnabled": false,
   "language": "python",
   "sourceType": "notebook"
  },
  "kernelspec": {
   "display_name": "Python 3",
   "language": "python",
   "name": "python3"
  },
  "language_info": {
   "codemirror_mode": {
    "name": "ipython",
    "version": 3
   },
   "file_extension": ".py",
   "mimetype": "text/x-python",
   "name": "python",
   "nbconvert_exporter": "python",
   "pygments_lexer": "ipython3",
   "version": "3.11.11"
  },
  "papermill": {
   "default_parameters": {},
   "duration": 12.274762,
   "end_time": "2025-05-18T15:13:21.303074",
   "environment_variables": {},
   "exception": null,
   "input_path": "__notebook__.ipynb",
   "output_path": "__notebook__.ipynb",
   "parameters": {},
   "start_time": "2025-05-18T15:13:09.028312",
   "version": "2.6.0"
  }
 },
 "nbformat": 4,
 "nbformat_minor": 5
}
