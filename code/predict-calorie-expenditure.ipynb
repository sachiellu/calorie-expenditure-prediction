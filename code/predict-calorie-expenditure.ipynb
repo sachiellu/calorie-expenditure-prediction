{
 "cells": [
  {
   "cell_type": "code",
   "execution_count": 1,
   "id": "810bb599",
   "metadata": {
    "_cell_guid": "b1076dfc-b9ad-4769-8c92-a6c4dae69d19",
    "_uuid": "8f2839f25d086af736a60e9eeb907d3b93b6e0e5",
    "execution": {
     "iopub.execute_input": "2025-05-18T06:11:45.541374Z",
     "iopub.status.busy": "2025-05-18T06:11:45.541052Z",
     "iopub.status.idle": "2025-05-18T06:11:49.303962Z",
     "shell.execute_reply": "2025-05-18T06:11:49.302980Z"
    },
    "papermill": {
     "duration": 3.76994,
     "end_time": "2025-05-18T06:11:49.305901",
     "exception": false,
     "start_time": "2025-05-18T06:11:45.535961",
     "status": "completed"
    },
    "tags": []
   },
   "outputs": [],
   "source": [
    "import pandas as pd\n",
    "import numpy as np\n",
    "from sklearn.linear_model import LinearRegression"
   ]
  },
  {
   "cell_type": "code",
   "execution_count": 2,
   "id": "961d802d",
   "metadata": {
    "execution": {
     "iopub.execute_input": "2025-05-18T06:11:49.314789Z",
     "iopub.status.busy": "2025-05-18T06:11:49.313380Z",
     "iopub.status.idle": "2025-05-18T06:11:50.606855Z",
     "shell.execute_reply": "2025-05-18T06:11:50.605813Z"
    },
    "papermill": {
     "duration": 1.299287,
     "end_time": "2025-05-18T06:11:50.608888",
     "exception": false,
     "start_time": "2025-05-18T06:11:49.309601",
     "status": "completed"
    },
    "tags": []
   },
   "outputs": [],
   "source": [
    "# 讀資料\n",
    "train = pd.read_csv('/kaggle/input/playground-series-s5e5/train.csv')\n",
    "test = pd.read_csv('/kaggle/input/playground-series-s5e5/test.csv')"
   ]
  },
  {
   "cell_type": "code",
   "execution_count": 3,
   "id": "abc83295",
   "metadata": {
    "execution": {
     "iopub.execute_input": "2025-05-18T06:11:50.615948Z",
     "iopub.status.busy": "2025-05-18T06:11:50.615621Z",
     "iopub.status.idle": "2025-05-18T06:11:50.626475Z",
     "shell.execute_reply": "2025-05-18T06:11:50.625533Z"
    },
    "papermill": {
     "duration": 0.01626,
     "end_time": "2025-05-18T06:11:50.628190",
     "exception": false,
     "start_time": "2025-05-18T06:11:50.611930",
     "status": "completed"
    },
    "tags": []
   },
   "outputs": [],
   "source": [
    "# 在測試集補上空的目標欄位\n",
    "test['Calories'] = np.nan"
   ]
  },
  {
   "cell_type": "code",
   "execution_count": 4,
   "id": "487095a5",
   "metadata": {
    "execution": {
     "iopub.execute_input": "2025-05-18T06:11:50.635145Z",
     "iopub.status.busy": "2025-05-18T06:11:50.634797Z",
     "iopub.status.idle": "2025-05-18T06:11:50.641422Z",
     "shell.execute_reply": "2025-05-18T06:11:50.640566Z"
    },
    "papermill": {
     "duration": 0.011934,
     "end_time": "2025-05-18T06:11:50.642991",
     "exception": false,
     "start_time": "2025-05-18T06:11:50.631057",
     "status": "completed"
    },
    "tags": []
   },
   "outputs": [],
   "source": [
    "# 標記訓練/測試資料\n",
    "train['is_train'] = 1\n",
    "test['is_train'] = 0"
   ]
  },
  {
   "cell_type": "code",
   "execution_count": 5,
   "id": "2274ed62",
   "metadata": {
    "execution": {
     "iopub.execute_input": "2025-05-18T06:11:50.650173Z",
     "iopub.status.busy": "2025-05-18T06:11:50.649298Z",
     "iopub.status.idle": "2025-05-18T06:11:50.709123Z",
     "shell.execute_reply": "2025-05-18T06:11:50.707881Z"
    },
    "papermill": {
     "duration": 0.065436,
     "end_time": "2025-05-18T06:11:50.711078",
     "exception": false,
     "start_time": "2025-05-18T06:11:50.645642",
     "status": "completed"
    },
    "tags": []
   },
   "outputs": [],
   "source": [
    "# 合併\n",
    "combined = pd.concat([train, test], ignore_index=True)"
   ]
  },
  {
   "cell_type": "code",
   "execution_count": 6,
   "id": "c0f9dd08",
   "metadata": {
    "execution": {
     "iopub.execute_input": "2025-05-18T06:11:50.717547Z",
     "iopub.status.busy": "2025-05-18T06:11:50.717166Z",
     "iopub.status.idle": "2025-05-18T06:11:51.072538Z",
     "shell.execute_reply": "2025-05-18T06:11:51.071545Z"
    },
    "papermill": {
     "duration": 0.360574,
     "end_time": "2025-05-18T06:11:51.074356",
     "exception": false,
     "start_time": "2025-05-18T06:11:50.713782",
     "status": "completed"
    },
    "tags": []
   },
   "outputs": [],
   "source": [
    "# 找類別欄位並做One-hot encoding\n",
    "cat_columns = combined.select_dtypes(include=['object']).columns.tolist()\n",
    "combined = pd.get_dummies(combined, columns=cat_columns)"
   ]
  },
  {
   "cell_type": "code",
   "execution_count": 7,
   "id": "020a6c43",
   "metadata": {
    "execution": {
     "iopub.execute_input": "2025-05-18T06:11:51.081849Z",
     "iopub.status.busy": "2025-05-18T06:11:51.080894Z",
     "iopub.status.idle": "2025-05-18T06:11:51.196739Z",
     "shell.execute_reply": "2025-05-18T06:11:51.195624Z"
    },
    "papermill": {
     "duration": 0.12154,
     "end_time": "2025-05-18T06:11:51.198681",
     "exception": false,
     "start_time": "2025-05-18T06:11:51.077141",
     "status": "completed"
    },
    "tags": []
   },
   "outputs": [],
   "source": [
    "# 分回訓練集\n",
    "train_data = combined[combined['is_train'] == 1].copy()\n",
    "train_data = train_data.drop(columns=['is_train', 'id'])\n",
    "train_data = train_data.dropna(subset=['Calories'])"
   ]
  },
  {
   "cell_type": "code",
   "execution_count": 8,
   "id": "3c374b06",
   "metadata": {
    "execution": {
     "iopub.execute_input": "2025-05-18T06:11:51.206586Z",
     "iopub.status.busy": "2025-05-18T06:11:51.206075Z",
     "iopub.status.idle": "2025-05-18T06:11:51.222297Z",
     "shell.execute_reply": "2025-05-18T06:11:51.221251Z"
    },
    "papermill": {
     "duration": 0.02232,
     "end_time": "2025-05-18T06:11:51.224375",
     "exception": false,
     "start_time": "2025-05-18T06:11:51.202055",
     "status": "completed"
    },
    "tags": []
   },
   "outputs": [],
   "source": [
    "# 準備X和y\n",
    "X = train_data.drop('Calories', axis=1)\n",
    "y = train_data['Calories']"
   ]
  },
  {
   "cell_type": "code",
   "execution_count": 9,
   "id": "4b28fe4e",
   "metadata": {
    "execution": {
     "iopub.execute_input": "2025-05-18T06:11:51.231725Z",
     "iopub.status.busy": "2025-05-18T06:11:51.230966Z",
     "iopub.status.idle": "2025-05-18T06:11:51.703641Z",
     "shell.execute_reply": "2025-05-18T06:11:51.702650Z"
    },
    "papermill": {
     "duration": 0.478271,
     "end_time": "2025-05-18T06:11:51.705585",
     "exception": false,
     "start_time": "2025-05-18T06:11:51.227314",
     "status": "completed"
    },
    "tags": []
   },
   "outputs": [
    {
     "data": {
      "text/html": [
       "<style>#sk-container-id-1 {color: black;background-color: white;}#sk-container-id-1 pre{padding: 0;}#sk-container-id-1 div.sk-toggleable {background-color: white;}#sk-container-id-1 label.sk-toggleable__label {cursor: pointer;display: block;width: 100%;margin-bottom: 0;padding: 0.3em;box-sizing: border-box;text-align: center;}#sk-container-id-1 label.sk-toggleable__label-arrow:before {content: \"▸\";float: left;margin-right: 0.25em;color: #696969;}#sk-container-id-1 label.sk-toggleable__label-arrow:hover:before {color: black;}#sk-container-id-1 div.sk-estimator:hover label.sk-toggleable__label-arrow:before {color: black;}#sk-container-id-1 div.sk-toggleable__content {max-height: 0;max-width: 0;overflow: hidden;text-align: left;background-color: #f0f8ff;}#sk-container-id-1 div.sk-toggleable__content pre {margin: 0.2em;color: black;border-radius: 0.25em;background-color: #f0f8ff;}#sk-container-id-1 input.sk-toggleable__control:checked~div.sk-toggleable__content {max-height: 200px;max-width: 100%;overflow: auto;}#sk-container-id-1 input.sk-toggleable__control:checked~label.sk-toggleable__label-arrow:before {content: \"▾\";}#sk-container-id-1 div.sk-estimator input.sk-toggleable__control:checked~label.sk-toggleable__label {background-color: #d4ebff;}#sk-container-id-1 div.sk-label input.sk-toggleable__control:checked~label.sk-toggleable__label {background-color: #d4ebff;}#sk-container-id-1 input.sk-hidden--visually {border: 0;clip: rect(1px 1px 1px 1px);clip: rect(1px, 1px, 1px, 1px);height: 1px;margin: -1px;overflow: hidden;padding: 0;position: absolute;width: 1px;}#sk-container-id-1 div.sk-estimator {font-family: monospace;background-color: #f0f8ff;border: 1px dotted black;border-radius: 0.25em;box-sizing: border-box;margin-bottom: 0.5em;}#sk-container-id-1 div.sk-estimator:hover {background-color: #d4ebff;}#sk-container-id-1 div.sk-parallel-item::after {content: \"\";width: 100%;border-bottom: 1px solid gray;flex-grow: 1;}#sk-container-id-1 div.sk-label:hover label.sk-toggleable__label {background-color: #d4ebff;}#sk-container-id-1 div.sk-serial::before {content: \"\";position: absolute;border-left: 1px solid gray;box-sizing: border-box;top: 0;bottom: 0;left: 50%;z-index: 0;}#sk-container-id-1 div.sk-serial {display: flex;flex-direction: column;align-items: center;background-color: white;padding-right: 0.2em;padding-left: 0.2em;position: relative;}#sk-container-id-1 div.sk-item {position: relative;z-index: 1;}#sk-container-id-1 div.sk-parallel {display: flex;align-items: stretch;justify-content: center;background-color: white;position: relative;}#sk-container-id-1 div.sk-item::before, #sk-container-id-1 div.sk-parallel-item::before {content: \"\";position: absolute;border-left: 1px solid gray;box-sizing: border-box;top: 0;bottom: 0;left: 50%;z-index: -1;}#sk-container-id-1 div.sk-parallel-item {display: flex;flex-direction: column;z-index: 1;position: relative;background-color: white;}#sk-container-id-1 div.sk-parallel-item:first-child::after {align-self: flex-end;width: 50%;}#sk-container-id-1 div.sk-parallel-item:last-child::after {align-self: flex-start;width: 50%;}#sk-container-id-1 div.sk-parallel-item:only-child::after {width: 0;}#sk-container-id-1 div.sk-dashed-wrapped {border: 1px dashed gray;margin: 0 0.4em 0.5em 0.4em;box-sizing: border-box;padding-bottom: 0.4em;background-color: white;}#sk-container-id-1 div.sk-label label {font-family: monospace;font-weight: bold;display: inline-block;line-height: 1.2em;}#sk-container-id-1 div.sk-label-container {text-align: center;}#sk-container-id-1 div.sk-container {/* jupyter's `normalize.less` sets `[hidden] { display: none; }` but bootstrap.min.css set `[hidden] { display: none !important; }` so we also need the `!important` here to be able to override the default hidden behavior on the sphinx rendered scikit-learn.org. See: https://github.com/scikit-learn/scikit-learn/issues/21755 */display: inline-block !important;position: relative;}#sk-container-id-1 div.sk-text-repr-fallback {display: none;}</style><div id=\"sk-container-id-1\" class=\"sk-top-container\"><div class=\"sk-text-repr-fallback\"><pre>LinearRegression()</pre><b>In a Jupyter environment, please rerun this cell to show the HTML representation or trust the notebook. <br />On GitHub, the HTML representation is unable to render, please try loading this page with nbviewer.org.</b></div><div class=\"sk-container\" hidden><div class=\"sk-item\"><div class=\"sk-estimator sk-toggleable\"><input class=\"sk-toggleable__control sk-hidden--visually\" id=\"sk-estimator-id-1\" type=\"checkbox\" checked><label for=\"sk-estimator-id-1\" class=\"sk-toggleable__label sk-toggleable__label-arrow\">LinearRegression</label><div class=\"sk-toggleable__content\"><pre>LinearRegression()</pre></div></div></div></div></div>"
      ],
      "text/plain": [
       "LinearRegression()"
      ]
     },
     "execution_count": 9,
     "metadata": {},
     "output_type": "execute_result"
    }
   ],
   "source": [
    "# 訓練模型\n",
    "from sklearn.linear_model import LinearRegression\n",
    "\n",
    "model = LinearRegression()\n",
    "model.fit(X, y)"
   ]
  },
  {
   "cell_type": "code",
   "execution_count": 10,
   "id": "5f7e4d89",
   "metadata": {
    "execution": {
     "iopub.execute_input": "2025-05-18T06:11:51.716187Z",
     "iopub.status.busy": "2025-05-18T06:11:51.715864Z",
     "iopub.status.idle": "2025-05-18T06:11:51.721817Z",
     "shell.execute_reply": "2025-05-18T06:11:51.720906Z"
    },
    "papermill": {
     "duration": 0.013252,
     "end_time": "2025-05-18T06:11:51.723502",
     "exception": false,
     "start_time": "2025-05-18T06:11:51.710250",
     "status": "completed"
    },
    "tags": []
   },
   "outputs": [
    {
     "name": "stdout",
     "output_type": "stream",
     "text": [
      "模型係數（weights）: [  0.53207573  -0.14626323   0.26964886   6.75960902   1.94866858\n",
      " -18.18538501   0.84819094  -0.84819094]\n",
      "模型截距（intercept）: 509.29925091188795\n"
     ]
    }
   ],
   "source": [
    "print(\"模型係數（weights）:\", model.coef_)\n",
    "print(\"模型截距（intercept）:\", model.intercept_)"
   ]
  },
  {
   "cell_type": "code",
   "execution_count": 11,
   "id": "281902ae",
   "metadata": {
    "execution": {
     "iopub.execute_input": "2025-05-18T06:11:51.734111Z",
     "iopub.status.busy": "2025-05-18T06:11:51.733789Z",
     "iopub.status.idle": "2025-05-18T06:11:51.781506Z",
     "shell.execute_reply": "2025-05-18T06:11:51.780536Z"
    },
    "papermill": {
     "duration": 0.054707,
     "end_time": "2025-05-18T06:11:51.783045",
     "exception": false,
     "start_time": "2025-05-18T06:11:51.728338",
     "status": "completed"
    },
    "tags": []
   },
   "outputs": [
    {
     "name": "stdout",
     "output_type": "stream",
     "text": [
      "前5筆預測值: [149.03781834  34.29223058  18.21955186 148.73368861 151.96299336]\n",
      "前5筆真實值: [150.  34.  29. 140. 146.]\n"
     ]
    }
   ],
   "source": [
    "y_pred = model.predict(X)\n",
    "print(\"前5筆預測值:\", y_pred[:5])\n",
    "print(\"前5筆真實值:\", y.values[:5])"
   ]
  }
 ],
 "metadata": {
  "kaggle": {
   "accelerator": "none",
   "dataSources": [
    {
     "databundleVersionId": 11893428,
     "sourceId": 91716,
     "sourceType": "competition"
    }
   ],
   "dockerImageVersionId": 31040,
   "isGpuEnabled": false,
   "isInternetEnabled": false,
   "language": "python",
   "sourceType": "notebook"
  },
  "kernelspec": {
   "display_name": "Python 3",
   "language": "python",
   "name": "python3"
  },
  "language_info": {
   "codemirror_mode": {
    "name": "ipython",
    "version": 3
   },
   "file_extension": ".py",
   "mimetype": "text/x-python",
   "name": "python",
   "nbconvert_exporter": "python",
   "pygments_lexer": "ipython3",
   "version": "3.11.11"
  },
  "papermill": {
   "default_parameters": {},
   "duration": 11.997764,
   "end_time": "2025-05-18T06:11:52.509529",
   "environment_variables": {},
   "exception": null,
   "input_path": "__notebook__.ipynb",
   "output_path": "__notebook__.ipynb",
   "parameters": {},
   "start_time": "2025-05-18T06:11:40.511765",
   "version": "2.6.0"
  }
 },
 "nbformat": 4,
 "nbformat_minor": 5
}
